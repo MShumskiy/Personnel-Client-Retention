{
 "cells": [
  {
   "cell_type": "markdown",
   "metadata": {},
   "source": [
    "# Personnel Retention Study"
   ]
  },
  {
   "cell_type": "markdown",
   "metadata": {},
   "source": [
    "## Abstract"
   ]
  },
  {
   "cell_type": "markdown",
   "metadata": {},
   "source": [
    "This project examines Personnel Retention in a given institution.  \n",
    "The goal is to determine the most revelant parameters, how they influence the retention of personnel and a formulation of plan of action.  \n",
    "Through Exploratory Data Analysis and Machine Learniung Binary Classification Algorithm, some interesting insights were extracted.  \n",
    "This project has valuable application to the subject of client retention."
   ]
  },
  {
   "cell_type": "markdown",
   "metadata": {},
   "source": [
    "## 1. Introduction\n",
    "This project arose from the need of a certain institution to increase it's personnel retention power.  \n",
    "Employers where leaving the institution and following seemingly random patterns, from resigning after being moved to a position of desire, to resigning soon after promotion.  \n",
    "To solve this problem, several ideas came to light, from mouth to mouth inquiries to full statistical inquiries. Both of the methods have one common problem, the subjectivity of individuals feedback/answers.  \n",
    "Having in mind that numbers and data don't lie, it was decided to conduct a more analytical study of the situation through data analysis and Machine Learning Methods. It is here that this project's role came to life."
   ]
  },
  {
   "cell_type": "markdown",
   "metadata": {},
   "source": [
    "## 2. Methodology  \n",
    "### 2.1. The Data  \n",
    "The data was sampled from personal files of each indivudual that worked in the institution.  \n",
    "For the sake of data sensitivity, all parameters were changed to P1, P2 and so on as well as some values for these parameters, but the process retains it's global application.\n",
    "\n",
    "### 2.2. The Method  \n",
    "The analysis for this project consists of 2 phases, exploratory data analysis and impementation of Machine Learning Logistic Regression Algorithm.  \n",
    "\n",
    "### 2.3. The Code  \n",
    "In this section lies the explanation of the code used for this project."
   ]
  },
  {
   "cell_type": "markdown",
   "metadata": {},
   "source": [
    "Importation of the necessary modules."
   ]
  },
  {
   "cell_type": "code",
   "execution_count": 1,
   "metadata": {},
   "outputs": [],
   "source": [
    "import numpy as np\n",
    "import pandas as pd\n",
    "import matplotlib.pyplot as plt\n",
    "import seaborn as sns\n",
    "from sklearn import preprocessing\n",
    "from sklearn.model_selection import train_test_split\n",
    "from sklearn.linear_model import LogisticRegression\n",
    "from sklearn.metrics import classification_report\n",
    "from imblearn.over_sampling import SMOTE\n",
    "%matplotlib inline"
   ]
  },
  {
   "cell_type": "markdown",
   "metadata": {},
   "source": [
    "#### 2.3.1. Data Preparation\n",
    "Importation of the data set from excel using pandas."
   ]
  },
  {
   "cell_type": "code",
   "execution_count": 2,
   "metadata": {},
   "outputs": [
    {
     "name": "stdout",
     "output_type": "stream",
     "text": [
      "(82, 29)\n",
      "Index(['ID', 'P1', 'P2', 'P3', 'P4', 'P5', 'P6', 'P7', 'P8', 'P9', 'P10',\n",
      "       'P11', 'P12', 'P13', 'P14', 'P14A', 'P14B', 'P14C', 'P14D', 'P14E',\n",
      "       'P14F', 'P14G', 'P14H', 'P14I', 'P14J', 'P14K', 'P14L', 'P14M', 'Y'],\n",
      "      dtype='object')\n"
     ]
    },
    {
     "data": {
      "text/html": [
       "<div>\n",
       "<style scoped>\n",
       "    .dataframe tbody tr th:only-of-type {\n",
       "        vertical-align: middle;\n",
       "    }\n",
       "\n",
       "    .dataframe tbody tr th {\n",
       "        vertical-align: top;\n",
       "    }\n",
       "\n",
       "    .dataframe thead th {\n",
       "        text-align: right;\n",
       "    }\n",
       "</style>\n",
       "<table border=\"1\" class=\"dataframe\">\n",
       "  <thead>\n",
       "    <tr style=\"text-align: right;\">\n",
       "      <th></th>\n",
       "      <th>ID</th>\n",
       "      <th>P1</th>\n",
       "      <th>P2</th>\n",
       "      <th>P3</th>\n",
       "      <th>P4</th>\n",
       "      <th>P5</th>\n",
       "      <th>P6</th>\n",
       "      <th>P7</th>\n",
       "      <th>P8</th>\n",
       "      <th>P9</th>\n",
       "      <th>...</th>\n",
       "      <th>P14E</th>\n",
       "      <th>P14F</th>\n",
       "      <th>P14G</th>\n",
       "      <th>P14H</th>\n",
       "      <th>P14I</th>\n",
       "      <th>P14J</th>\n",
       "      <th>P14K</th>\n",
       "      <th>P14L</th>\n",
       "      <th>P14M</th>\n",
       "      <th>Y</th>\n",
       "    </tr>\n",
       "  </thead>\n",
       "  <tbody>\n",
       "    <tr>\n",
       "      <th>0</th>\n",
       "      <td>0</td>\n",
       "      <td>1</td>\n",
       "      <td>1</td>\n",
       "      <td>2009-04-20</td>\n",
       "      <td>2012-07-16</td>\n",
       "      <td>3</td>\n",
       "      <td>S1</td>\n",
       "      <td>0</td>\n",
       "      <td>R1</td>\n",
       "      <td>111</td>\n",
       "      <td>...</td>\n",
       "      <td>0</td>\n",
       "      <td>0</td>\n",
       "      <td>0</td>\n",
       "      <td>0</td>\n",
       "      <td>0</td>\n",
       "      <td>0</td>\n",
       "      <td>0</td>\n",
       "      <td>0</td>\n",
       "      <td>0</td>\n",
       "      <td>S</td>\n",
       "    </tr>\n",
       "    <tr>\n",
       "      <th>1</th>\n",
       "      <td>1</td>\n",
       "      <td>1</td>\n",
       "      <td>3</td>\n",
       "      <td>2006-03-20</td>\n",
       "      <td>2012-08-21</td>\n",
       "      <td>6</td>\n",
       "      <td>S1</td>\n",
       "      <td>0</td>\n",
       "      <td>R2</td>\n",
       "      <td>56</td>\n",
       "      <td>...</td>\n",
       "      <td>0</td>\n",
       "      <td>1</td>\n",
       "      <td>0</td>\n",
       "      <td>0</td>\n",
       "      <td>0</td>\n",
       "      <td>0</td>\n",
       "      <td>0</td>\n",
       "      <td>0</td>\n",
       "      <td>0</td>\n",
       "      <td>N</td>\n",
       "    </tr>\n",
       "    <tr>\n",
       "      <th>2</th>\n",
       "      <td>2</td>\n",
       "      <td>1</td>\n",
       "      <td>1</td>\n",
       "      <td>2004-05-31</td>\n",
       "      <td>2012-09-17</td>\n",
       "      <td>6</td>\n",
       "      <td>S1</td>\n",
       "      <td>0</td>\n",
       "      <td>R3</td>\n",
       "      <td>22</td>\n",
       "      <td>...</td>\n",
       "      <td>0</td>\n",
       "      <td>0</td>\n",
       "      <td>0</td>\n",
       "      <td>0</td>\n",
       "      <td>0</td>\n",
       "      <td>0</td>\n",
       "      <td>0</td>\n",
       "      <td>0</td>\n",
       "      <td>0</td>\n",
       "      <td>N</td>\n",
       "    </tr>\n",
       "    <tr>\n",
       "      <th>3</th>\n",
       "      <td>3</td>\n",
       "      <td>1</td>\n",
       "      <td>3</td>\n",
       "      <td>2006-02-06</td>\n",
       "      <td>2013-02-05</td>\n",
       "      <td>7</td>\n",
       "      <td>C1</td>\n",
       "      <td>0</td>\n",
       "      <td>R2</td>\n",
       "      <td>56</td>\n",
       "      <td>...</td>\n",
       "      <td>1</td>\n",
       "      <td>0</td>\n",
       "      <td>0</td>\n",
       "      <td>0</td>\n",
       "      <td>0</td>\n",
       "      <td>0</td>\n",
       "      <td>0</td>\n",
       "      <td>0</td>\n",
       "      <td>0</td>\n",
       "      <td>N</td>\n",
       "    </tr>\n",
       "    <tr>\n",
       "      <th>4</th>\n",
       "      <td>4</td>\n",
       "      <td>1</td>\n",
       "      <td>1</td>\n",
       "      <td>2010-04-19</td>\n",
       "      <td>2012-11-11</td>\n",
       "      <td>2</td>\n",
       "      <td>S1</td>\n",
       "      <td>0</td>\n",
       "      <td>R4</td>\n",
       "      <td>105</td>\n",
       "      <td>...</td>\n",
       "      <td>0</td>\n",
       "      <td>0</td>\n",
       "      <td>0</td>\n",
       "      <td>0</td>\n",
       "      <td>0</td>\n",
       "      <td>0</td>\n",
       "      <td>0</td>\n",
       "      <td>0</td>\n",
       "      <td>0</td>\n",
       "      <td>S</td>\n",
       "    </tr>\n",
       "  </tbody>\n",
       "</table>\n",
       "<p>5 rows × 29 columns</p>\n",
       "</div>"
      ],
      "text/plain": [
       "   ID  P1  P2         P3         P4  P5  P6  P7  P8   P9  ...  P14E  P14F  \\\n",
       "0   0   1   1 2009-04-20 2012-07-16   3  S1   0  R1  111  ...     0     0   \n",
       "1   1   1   3 2006-03-20 2012-08-21   6  S1   0  R2   56  ...     0     1   \n",
       "2   2   1   1 2004-05-31 2012-09-17   6  S1   0  R3   22  ...     0     0   \n",
       "3   3   1   3 2006-02-06 2013-02-05   7  C1   0  R2   56  ...     1     0   \n",
       "4   4   1   1 2010-04-19 2012-11-11   2  S1   0  R4  105  ...     0     0   \n",
       "\n",
       "   P14G  P14H  P14I  P14J  P14K  P14L  P14M  Y  \n",
       "0     0     0     0     0     0     0     0  S  \n",
       "1     0     0     0     0     0     0     0  N  \n",
       "2     0     0     0     0     0     0     0  N  \n",
       "3     0     0     0     0     0     0     0  N  \n",
       "4     0     0     0     0     0     0     0  S  \n",
       "\n",
       "[5 rows x 29 columns]"
      ]
     },
     "execution_count": 2,
     "metadata": {},
     "output_type": "execute_result"
    }
   ],
   "source": [
    "data_path= r'C:\\Users\\Pc\\Desktop\\Data Science\\Projects\\Rescisoes\\data.xlsx'\n",
    "data=pd.read_excel(data_path)\n",
    "print(data.shape)\n",
    "print(data.columns)\n",
    "data.head()"
   ]
  },
  {
   "cell_type": "markdown",
   "metadata": {},
   "source": [
    "The columns P14A-P14M are conversion into dummy variables of content that resided in quantitative form in column P14.  \n",
    "From a quick look at the dataset we can conclude the following:  \n",
    " - ID column is redundant,  \n",
    " - P1 column contains one value for all individuals,  \n",
    " - P3 column contains too specific data and must be converted to year only,  \n",
    " - P4 column is irrelevant for this study, \n",
    " - The Y column is in string format which may bring some complications later on, \n",
    " - The columns P14A to P14M will not give any significant data (due to low occurences count),\n",
    " - The P8 parameter is the residence of each element,\n",
    " - The P9 column is the distance between individuals residence and place of work.\n",
    "\n",
    "With this in mind, those columns need to be droped or edited. "
   ]
  },
  {
   "cell_type": "code",
   "execution_count": 3,
   "metadata": {},
   "outputs": [
    {
     "data": {
      "text/html": [
       "<div>\n",
       "<style scoped>\n",
       "    .dataframe tbody tr th:only-of-type {\n",
       "        vertical-align: middle;\n",
       "    }\n",
       "\n",
       "    .dataframe tbody tr th {\n",
       "        vertical-align: top;\n",
       "    }\n",
       "\n",
       "    .dataframe thead th {\n",
       "        text-align: right;\n",
       "    }\n",
       "</style>\n",
       "<table border=\"1\" class=\"dataframe\">\n",
       "  <thead>\n",
       "    <tr style=\"text-align: right;\">\n",
       "      <th></th>\n",
       "      <th>P2</th>\n",
       "      <th>P3</th>\n",
       "      <th>P5</th>\n",
       "      <th>P6</th>\n",
       "      <th>P7</th>\n",
       "      <th>P8</th>\n",
       "      <th>P9</th>\n",
       "      <th>P10</th>\n",
       "      <th>P11</th>\n",
       "      <th>P12</th>\n",
       "      <th>P13</th>\n",
       "      <th>P14</th>\n",
       "      <th>Y</th>\n",
       "    </tr>\n",
       "  </thead>\n",
       "  <tbody>\n",
       "    <tr>\n",
       "      <th>0</th>\n",
       "      <td>1</td>\n",
       "      <td>2009</td>\n",
       "      <td>3</td>\n",
       "      <td>S1</td>\n",
       "      <td>0</td>\n",
       "      <td>R1</td>\n",
       "      <td>111</td>\n",
       "      <td>6</td>\n",
       "      <td>0</td>\n",
       "      <td>2</td>\n",
       "      <td>0</td>\n",
       "      <td>0</td>\n",
       "      <td>1</td>\n",
       "    </tr>\n",
       "    <tr>\n",
       "      <th>1</th>\n",
       "      <td>3</td>\n",
       "      <td>2006</td>\n",
       "      <td>6</td>\n",
       "      <td>S1</td>\n",
       "      <td>0</td>\n",
       "      <td>R2</td>\n",
       "      <td>56</td>\n",
       "      <td>9</td>\n",
       "      <td>0</td>\n",
       "      <td>5</td>\n",
       "      <td>0</td>\n",
       "      <td>3</td>\n",
       "      <td>0</td>\n",
       "    </tr>\n",
       "    <tr>\n",
       "      <th>2</th>\n",
       "      <td>1</td>\n",
       "      <td>2004</td>\n",
       "      <td>6</td>\n",
       "      <td>S1</td>\n",
       "      <td>0</td>\n",
       "      <td>R3</td>\n",
       "      <td>22</td>\n",
       "      <td>9</td>\n",
       "      <td>2</td>\n",
       "      <td>0</td>\n",
       "      <td>4</td>\n",
       "      <td>0</td>\n",
       "      <td>0</td>\n",
       "    </tr>\n",
       "    <tr>\n",
       "      <th>3</th>\n",
       "      <td>3</td>\n",
       "      <td>2006</td>\n",
       "      <td>7</td>\n",
       "      <td>C1</td>\n",
       "      <td>0</td>\n",
       "      <td>R2</td>\n",
       "      <td>56</td>\n",
       "      <td>9</td>\n",
       "      <td>2</td>\n",
       "      <td>1</td>\n",
       "      <td>2</td>\n",
       "      <td>1</td>\n",
       "      <td>0</td>\n",
       "    </tr>\n",
       "    <tr>\n",
       "      <th>4</th>\n",
       "      <td>1</td>\n",
       "      <td>2010</td>\n",
       "      <td>2</td>\n",
       "      <td>S1</td>\n",
       "      <td>0</td>\n",
       "      <td>R4</td>\n",
       "      <td>105</td>\n",
       "      <td>9</td>\n",
       "      <td>0</td>\n",
       "      <td>0</td>\n",
       "      <td>-1</td>\n",
       "      <td>0</td>\n",
       "      <td>1</td>\n",
       "    </tr>\n",
       "  </tbody>\n",
       "</table>\n",
       "</div>"
      ],
      "text/plain": [
       "   P2    P3  P5  P6  P7  P8   P9  P10  P11  P12  P13  P14  Y\n",
       "0   1  2009   3  S1   0  R1  111    6    0    2    0    0  1\n",
       "1   3  2006   6  S1   0  R2   56    9    0    5    0    3  0\n",
       "2   1  2004   6  S1   0  R3   22    9    2    0    4    0  0\n",
       "3   3  2006   7  C1   0  R2   56    9    2    1    2    1  0\n",
       "4   1  2010   2  S1   0  R4  105    9    0    0   -1    0  1"
      ]
     },
     "execution_count": 3,
     "metadata": {},
     "output_type": "execute_result"
    }
   ],
   "source": [
    "data.drop(columns=['ID','P1','P4','P14A', 'P14B', 'P14C', 'P14D', 'P14E','P14F', 'P14G', 'P14H', 'P14I', 'P14J', 'P14K', 'P14L', 'P14M'],inplace=True)\n",
    "data['P3']=data['P3'].dt.year\n",
    "data_map={'S':1,'N':0}\n",
    "data['Y']=data['Y'].apply(lambda x:0 if x=='N' else 1)\n",
    "data.to_excel('resc_data.xlsx')\n",
    "data.head()"
   ]
  },
  {
   "cell_type": "markdown",
   "metadata": {},
   "source": [
    "Now, the dataset seems ready for analysis.  \n",
    "The values of Y represent:  \n",
    " - Y = 0,  the individual did not leave the organization,  \n",
    " - Y = 1,  the individual left the organization."
   ]
  },
  {
   "cell_type": "markdown",
   "metadata": {},
   "source": [
    "#### 2.3.2. Exploratory Data Analysis"
   ]
  },
  {
   "cell_type": "markdown",
   "metadata": {},
   "source": [
    "At this point, we can begin to perform some exploratory data analysis."
   ]
  },
  {
   "cell_type": "code",
   "execution_count": 4,
   "metadata": {},
   "outputs": [
    {
     "name": "stdout",
     "output_type": "stream",
     "text": [
      "The ration between the positive and negative outcomes of the variable Y is  0.519\n"
     ]
    },
    {
     "data": {
      "image/png": "[encoded data removed]",
      "text/plain": [
       "<Figure size 432x288 with 1 Axes>"
      ]
     },
     "metadata": {
      "needs_background": "light"
     },
     "output_type": "display_data"
    }
   ],
   "source": [
    "data['Y'].hist()\n",
    "plt.title('Number of occurences in Y variable')\n",
    "plt.xlabel('Value of Y')\n",
    "plt.ylabel('Number of occurences')\n",
    "\n",
    "resc_count=len(data[data['Y']==1])\n",
    "n_resc_count=len(data[data['Y']==0])\n",
    "ratio=(resc_count/n_resc_count)\n",
    "print('The ration between the positive and negative outcomes of the variable Y is ',round(ratio,3))"
   ]
  },
  {
   "cell_type": "markdown",
   "metadata": {},
   "source": [
    "The ratio of 0.519 wiil be an important factor in the decision of relevance for certain behaviours between parameters further on."
   ]
  },
  {
   "cell_type": "markdown",
   "metadata": {},
   "source": [
    "The following visualizations represent the relation between every parameter and Y."
   ]
  },
  {
   "cell_type": "code",
   "execution_count": 5,
   "metadata": {},
   "outputs": [
    {
     "data": {
      "image/png": "[encoded data removed]",
      "text/plain": [
       "<Figure size 432x288 with 1 Axes>"
      ]
     },
     "metadata": {
      "needs_background": "light"
     },
     "output_type": "display_data"
    },
    {
     "data": {
      "image/png": "[encoded data removed]",
      "text/plain": [
       "<Figure size 432x288 with 1 Axes>"
      ]
     },
     "metadata": {
      "needs_background": "light"
     },
     "output_type": "display_data"
    },
    {
     "data": {
      "image/png": "[encoded data removed]",
      "text/plain": [
       "<Figure size 432x288 with 1 Axes>"
      ]
     },
     "metadata": {
      "needs_background": "light"
     },
     "output_type": "display_data"
    },
    {
     "data": {
      "image/png": "[encoded data removed]",
      "text/plain": [
       "<Figure size 432x288 with 1 Axes>"
      ]
     },
     "metadata": {
      "needs_background": "light"
     },
     "output_type": "display_data"
    },
    {
     "data": {
      "image/png": "[encoded data removed]",
      "text/plain": [
       "<Figure size 432x288 with 1 Axes>"
      ]
     },
     "metadata": {
      "needs_background": "light"
     },
     "output_type": "display_data"
    },
    {
     "data": {
      "image/png": "[encoded data removed]",
      "text/plain": [
       "<Figure size 432x288 with 1 Axes>"
      ]
     },
     "metadata": {
      "needs_background": "light"
     },
     "output_type": "display_data"
    },
    {
     "data": {
      "image/png": "[encoded data removed]",
      "text/plain": [
       "<Figure size 432x288 with 1 Axes>"
      ]
     },
     "metadata": {
      "needs_background": "light"
     },
     "output_type": "display_data"
    },
    {
     "data": {
      "image/png": "[encoded data removed]",
      "text/plain": [
       "<Figure size 432x288 with 1 Axes>"
      ]
     },
     "metadata": {
      "needs_background": "light"
     },
     "output_type": "display_data"
    },
    {
     "data": {
      "image/png": "[encoded data removed]",
      "text/plain": [
       "<Figure size 432x288 with 1 Axes>"
      ]
     },
     "metadata": {
      "needs_background": "light"
     },
     "output_type": "display_data"
    },
    {
     "data": {
      "image/png": "[encoded data removed]",
      "text/plain": [
       "<Figure size 432x288 with 1 Axes>"
      ]
     },
     "metadata": {
      "needs_background": "light"
     },
     "output_type": "display_data"
    },
    {
     "data": {
      "image/png": "[encoded data removed]",
      "text/plain": [
       "<Figure size 432x288 with 1 Axes>"
      ]
     },
     "metadata": {
      "needs_background": "light"
     },
     "output_type": "display_data"
    },
    {
     "data": {
      "image/png": "[encoded data removed]",
      "text/plain": [
       "<Figure size 432x288 with 1 Axes>"
      ]
     },
     "metadata": {
      "needs_background": "light"
     },
     "output_type": "display_data"
    }
   ],
   "source": [
    "#simple cycle to plot various graphs\n",
    "for param1 in data.columns:\n",
    "    if param1 == 'Y':\n",
    "        break\n",
    "    else:\n",
    "        pd.crosstab(data[param1],data['Y']).plot(kind='bar',color=['r','g'])\n",
    "        plt.title('Occurences of Y in relation to {}'.format(param1))\n",
    "        plt.xlabel(param1)\n",
    "        plt.ylabel('Number of occurences in Y')"
   ]
  },
  {
   "cell_type": "markdown",
   "metadata": {},
   "source": [
    "From brief analysis of these graphs it's observable that:  \n",
    " - P2 and Y are highly correlated - the higher the value in P2 the lower the chance of an individual leaving.  \n",
    " - P3 and Y are highly correlated - after 2009 individuals started leaving the organziation more frequently.  \n",
    " - P5 and Y are highly correlated - after value of P5 hits 4-5 the number of individuals leaving drops considerably.  \n",
    " - P6 and Y don't seem to have any relation, for when P6=S1 the ratio of Y occurences is similar to the global mentioned earlier, and the other values of P6 posses too little data to make conclusions.  \n",
    " - P7 and Y follow the same logic that P6.  \n",
    " - P8 and Y don't seem to posses any correlation.  \n",
    " - P8 and P9 exhibit interesting phenomenon - P8 is the residence and P9 is the distance of residence to the organization. Here we see that there is no correlation between distance and the outcome of Y, however, if we examine the residence and outcome of Y we can extract usefull information. In other words, if we look for a tendency, we see none, but if we look at isolated points we see correlation. With this, we see that the distance from residence to the organization is irrelevant, however, the residence is.  \n",
    " - P10 doesnt seem to bear any correlation to Y by the same reasons as P6 and P7.  \n",
    " - P11 bears strong correlation with Y - the higher the value of P11 the less individuals leave the organization.  \n",
    " - P12 has strong correlation to Y.  \n",
    " - P13 has strong correlation to Y.  \n",
    " - P14 has strong correlation to Y.  \n",
    "  \n",
    "With this in mind, we can select the parameters with which we should proceed."
   ]
  },
  {
   "cell_type": "markdown",
   "metadata": {},
   "source": [
    "#### 2.3.3. Data Cleaning  \n",
    "Now, we act upon the results of Exploratory Data Analysis, i.e., we select only the most relevant parameters to proceed."
   ]
  },
  {
   "cell_type": "code",
   "execution_count": 6,
   "metadata": {},
   "outputs": [
    {
     "data": {
      "text/html": [
       "<div>\n",
       "<style scoped>\n",
       "    .dataframe tbody tr th:only-of-type {\n",
       "        vertical-align: middle;\n",
       "    }\n",
       "\n",
       "    .dataframe tbody tr th {\n",
       "        vertical-align: top;\n",
       "    }\n",
       "\n",
       "    .dataframe thead th {\n",
       "        text-align: right;\n",
       "    }\n",
       "</style>\n",
       "<table border=\"1\" class=\"dataframe\">\n",
       "  <thead>\n",
       "    <tr style=\"text-align: right;\">\n",
       "      <th></th>\n",
       "      <th>P2</th>\n",
       "      <th>P3</th>\n",
       "      <th>P5</th>\n",
       "      <th>P8</th>\n",
       "      <th>P11</th>\n",
       "      <th>P12</th>\n",
       "      <th>P13</th>\n",
       "      <th>P14</th>\n",
       "    </tr>\n",
       "  </thead>\n",
       "  <tbody>\n",
       "    <tr>\n",
       "      <th>0</th>\n",
       "      <td>1</td>\n",
       "      <td>2009</td>\n",
       "      <td>3</td>\n",
       "      <td>R1</td>\n",
       "      <td>0</td>\n",
       "      <td>2</td>\n",
       "      <td>0</td>\n",
       "      <td>0</td>\n",
       "    </tr>\n",
       "    <tr>\n",
       "      <th>1</th>\n",
       "      <td>3</td>\n",
       "      <td>2006</td>\n",
       "      <td>6</td>\n",
       "      <td>R2</td>\n",
       "      <td>0</td>\n",
       "      <td>5</td>\n",
       "      <td>0</td>\n",
       "      <td>3</td>\n",
       "    </tr>\n",
       "    <tr>\n",
       "      <th>2</th>\n",
       "      <td>1</td>\n",
       "      <td>2004</td>\n",
       "      <td>6</td>\n",
       "      <td>R3</td>\n",
       "      <td>2</td>\n",
       "      <td>0</td>\n",
       "      <td>4</td>\n",
       "      <td>0</td>\n",
       "    </tr>\n",
       "    <tr>\n",
       "      <th>3</th>\n",
       "      <td>3</td>\n",
       "      <td>2006</td>\n",
       "      <td>7</td>\n",
       "      <td>R2</td>\n",
       "      <td>2</td>\n",
       "      <td>1</td>\n",
       "      <td>2</td>\n",
       "      <td>1</td>\n",
       "    </tr>\n",
       "    <tr>\n",
       "      <th>4</th>\n",
       "      <td>1</td>\n",
       "      <td>2010</td>\n",
       "      <td>2</td>\n",
       "      <td>R4</td>\n",
       "      <td>0</td>\n",
       "      <td>0</td>\n",
       "      <td>-1</td>\n",
       "      <td>0</td>\n",
       "    </tr>\n",
       "  </tbody>\n",
       "</table>\n",
       "</div>"
      ],
      "text/plain": [
       "   P2    P3  P5  P8  P11  P12  P13  P14\n",
       "0   1  2009   3  R1    0    2    0    0\n",
       "1   3  2006   6  R2    0    5    0    3\n",
       "2   1  2004   6  R3    2    0    4    0\n",
       "3   3  2006   7  R2    2    1    2    1\n",
       "4   1  2010   2  R4    0    0   -1    0"
      ]
     },
     "execution_count": 6,
     "metadata": {},
     "output_type": "execute_result"
    }
   ],
   "source": [
    "data_2=data[['P2','P3','P5','P8','P11','P12','P13','P14']]\n",
    "data_2.head()"
   ]
  },
  {
   "cell_type": "markdown",
   "metadata": {},
   "source": [
    "Now, we create dummys for the P8 parameter."
   ]
  },
  {
   "cell_type": "code",
   "execution_count": 7,
   "metadata": {},
   "outputs": [
    {
     "data": {
      "text/html": [
       "<div>\n",
       "<style scoped>\n",
       "    .dataframe tbody tr th:only-of-type {\n",
       "        vertical-align: middle;\n",
       "    }\n",
       "\n",
       "    .dataframe tbody tr th {\n",
       "        vertical-align: top;\n",
       "    }\n",
       "\n",
       "    .dataframe thead th {\n",
       "        text-align: right;\n",
       "    }\n",
       "</style>\n",
       "<table border=\"1\" class=\"dataframe\">\n",
       "  <thead>\n",
       "    <tr style=\"text-align: right;\">\n",
       "      <th></th>\n",
       "      <th>P2</th>\n",
       "      <th>P3</th>\n",
       "      <th>P5</th>\n",
       "      <th>P11</th>\n",
       "      <th>P12</th>\n",
       "      <th>P13</th>\n",
       "      <th>P14</th>\n",
       "      <th>P8_R1</th>\n",
       "      <th>P8_R10</th>\n",
       "      <th>P8_R11</th>\n",
       "      <th>...</th>\n",
       "      <th>P8_R15</th>\n",
       "      <th>P8_R16</th>\n",
       "      <th>P8_R2</th>\n",
       "      <th>P8_R3</th>\n",
       "      <th>P8_R4</th>\n",
       "      <th>P8_R5</th>\n",
       "      <th>P8_R6</th>\n",
       "      <th>P8_R7</th>\n",
       "      <th>P8_R8</th>\n",
       "      <th>P8_R9</th>\n",
       "    </tr>\n",
       "  </thead>\n",
       "  <tbody>\n",
       "    <tr>\n",
       "      <th>0</th>\n",
       "      <td>1</td>\n",
       "      <td>2009</td>\n",
       "      <td>3</td>\n",
       "      <td>0</td>\n",
       "      <td>2</td>\n",
       "      <td>0</td>\n",
       "      <td>0</td>\n",
       "      <td>1</td>\n",
       "      <td>0</td>\n",
       "      <td>0</td>\n",
       "      <td>...</td>\n",
       "      <td>0</td>\n",
       "      <td>0</td>\n",
       "      <td>0</td>\n",
       "      <td>0</td>\n",
       "      <td>0</td>\n",
       "      <td>0</td>\n",
       "      <td>0</td>\n",
       "      <td>0</td>\n",
       "      <td>0</td>\n",
       "      <td>0</td>\n",
       "    </tr>\n",
       "    <tr>\n",
       "      <th>1</th>\n",
       "      <td>3</td>\n",
       "      <td>2006</td>\n",
       "      <td>6</td>\n",
       "      <td>0</td>\n",
       "      <td>5</td>\n",
       "      <td>0</td>\n",
       "      <td>3</td>\n",
       "      <td>0</td>\n",
       "      <td>0</td>\n",
       "      <td>0</td>\n",
       "      <td>...</td>\n",
       "      <td>0</td>\n",
       "      <td>0</td>\n",
       "      <td>1</td>\n",
       "      <td>0</td>\n",
       "      <td>0</td>\n",
       "      <td>0</td>\n",
       "      <td>0</td>\n",
       "      <td>0</td>\n",
       "      <td>0</td>\n",
       "      <td>0</td>\n",
       "    </tr>\n",
       "    <tr>\n",
       "      <th>2</th>\n",
       "      <td>1</td>\n",
       "      <td>2004</td>\n",
       "      <td>6</td>\n",
       "      <td>2</td>\n",
       "      <td>0</td>\n",
       "      <td>4</td>\n",
       "      <td>0</td>\n",
       "      <td>0</td>\n",
       "      <td>0</td>\n",
       "      <td>0</td>\n",
       "      <td>...</td>\n",
       "      <td>0</td>\n",
       "      <td>0</td>\n",
       "      <td>0</td>\n",
       "      <td>1</td>\n",
       "      <td>0</td>\n",
       "      <td>0</td>\n",
       "      <td>0</td>\n",
       "      <td>0</td>\n",
       "      <td>0</td>\n",
       "      <td>0</td>\n",
       "    </tr>\n",
       "    <tr>\n",
       "      <th>3</th>\n",
       "      <td>3</td>\n",
       "      <td>2006</td>\n",
       "      <td>7</td>\n",
       "      <td>2</td>\n",
       "      <td>1</td>\n",
       "      <td>2</td>\n",
       "      <td>1</td>\n",
       "      <td>0</td>\n",
       "      <td>0</td>\n",
       "      <td>0</td>\n",
       "      <td>...</td>\n",
       "      <td>0</td>\n",
       "      <td>0</td>\n",
       "      <td>1</td>\n",
       "      <td>0</td>\n",
       "      <td>0</td>\n",
       "      <td>0</td>\n",
       "      <td>0</td>\n",
       "      <td>0</td>\n",
       "      <td>0</td>\n",
       "      <td>0</td>\n",
       "    </tr>\n",
       "    <tr>\n",
       "      <th>4</th>\n",
       "      <td>1</td>\n",
       "      <td>2010</td>\n",
       "      <td>2</td>\n",
       "      <td>0</td>\n",
       "      <td>0</td>\n",
       "      <td>-1</td>\n",
       "      <td>0</td>\n",
       "      <td>0</td>\n",
       "      <td>0</td>\n",
       "      <td>0</td>\n",
       "      <td>...</td>\n",
       "      <td>0</td>\n",
       "      <td>0</td>\n",
       "      <td>0</td>\n",
       "      <td>0</td>\n",
       "      <td>1</td>\n",
       "      <td>0</td>\n",
       "      <td>0</td>\n",
       "      <td>0</td>\n",
       "      <td>0</td>\n",
       "      <td>0</td>\n",
       "    </tr>\n",
       "  </tbody>\n",
       "</table>\n",
       "<p>5 rows × 23 columns</p>\n",
       "</div>"
      ],
      "text/plain": [
       "   P2    P3  P5  P11  P12  P13  P14  P8_R1  P8_R10  P8_R11  ...  P8_R15  \\\n",
       "0   1  2009   3    0    2    0    0      1       0       0  ...       0   \n",
       "1   3  2006   6    0    5    0    3      0       0       0  ...       0   \n",
       "2   1  2004   6    2    0    4    0      0       0       0  ...       0   \n",
       "3   3  2006   7    2    1    2    1      0       0       0  ...       0   \n",
       "4   1  2010   2    0    0   -1    0      0       0       0  ...       0   \n",
       "\n",
       "   P8_R16  P8_R2  P8_R3  P8_R4  P8_R5  P8_R6  P8_R7  P8_R8  P8_R9  \n",
       "0       0      0      0      0      0      0      0      0      0  \n",
       "1       0      1      0      0      0      0      0      0      0  \n",
       "2       0      0      1      0      0      0      0      0      0  \n",
       "3       0      1      0      0      0      0      0      0      0  \n",
       "4       0      0      0      1      0      0      0      0      0  \n",
       "\n",
       "[5 rows x 23 columns]"
      ]
     },
     "execution_count": 7,
     "metadata": {},
     "output_type": "execute_result"
    }
   ],
   "source": [
    "cat_vars=['P8']\n",
    "for var in cat_vars:\n",
    "    cat_lsit='var'+'_'+var\n",
    "    cat_list=pd.get_dummies(data_2[var],prefix=var)\n",
    "    data_3=data_2.join(cat_list)\n",
    "data_3.drop(columns=['P8'],inplace=True)\n",
    "data_3.head()"
   ]
  },
  {
   "cell_type": "markdown",
   "metadata": {},
   "source": [
    "Now we can observe the preliminary results."
   ]
  },
  {
   "cell_type": "code",
   "execution_count": 8,
   "metadata": {},
   "outputs": [
    {
     "data": {
      "text/plain": [
       "Text(0.5, 1.0, 'Correlation between parameters and Y')"
      ]
     },
     "execution_count": 8,
     "metadata": {},
     "output_type": "execute_result"
    },
    {
     "data": {
      "image/png": "[encoded data removed]",
      "text/plain": [
       "<Figure size 432x288 with 1 Axes>"
      ]
     },
     "metadata": {
      "needs_background": "light"
     },
     "output_type": "display_data"
    }
   ],
   "source": [
    "abscorwithdep=[]\n",
    "for var in data_3.columns:\n",
    "    abscorwithdep.append((data['Y'].corr(data_3[str(var)])))\n",
    "    \n",
    "parameters=data_3.columns.to_list()\n",
    "corr_table={'parameters':parameters,\n",
    "           'corr':abscorwithdep}\n",
    "\n",
    "corr_table_df=pd.DataFrame.from_dict(corr_table)\n",
    "corr_table_df.dropna(inplace=True)\n",
    "corr_table_df.sort_values('corr', ascending=False,inplace=True)\n",
    "#corr_table_df.head()\n",
    "\n",
    "sns.barplot(x='corr',y='parameters',data=corr_table_df)\n",
    "plt.title('Correlation between parameters and Y')"
   ]
  },
  {
   "cell_type": "markdown",
   "metadata": {},
   "source": [
    "We Can now select the more relevant parameters to analyze based on their correlation:  \n",
    " - P5, P3, P11, P14, P12, P13"
   ]
  },
  {
   "cell_type": "code",
   "execution_count": 9,
   "metadata": {},
   "outputs": [
    {
     "data": {
      "text/plain": [
       "Text(0.5, 1.0, 'Correlation between parameters and Y')"
      ]
     },
     "execution_count": 9,
     "metadata": {},
     "output_type": "execute_result"
    },
    {
     "data": {
      "image/png": "[encoded data removed]",
      "text/plain": [
       "<Figure size 432x288 with 1 Axes>"
      ]
     },
     "metadata": {
      "needs_background": "light"
     },
     "output_type": "display_data"
    }
   ],
   "source": [
    "data_4=data[['P3','P5','P11','P12','P13','P14']]\n",
    "#data_2.head()\n",
    "\n",
    "abscorwithdep=[]\n",
    "for var in data_4.columns:\n",
    "    abscorwithdep.append((data['Y'].corr(data_4[str(var)])))\n",
    "    \n",
    "parameters=data_4.columns.to_list()\n",
    "corr_table={'parameters':parameters,\n",
    "           'corr':abscorwithdep}\n",
    "\n",
    "corr_table_df=pd.DataFrame.from_dict(corr_table)\n",
    "corr_table_df.dropna(inplace=True)\n",
    "corr_table_df.sort_values('corr', ascending=False,inplace=True)\n",
    "#corr_table_df.head()\n",
    "\n",
    "sns.barplot(x='corr',y='parameters',data=corr_table_df)\n",
    "plt.title('Correlation between parameters and Y')"
   ]
  },
  {
   "cell_type": "markdown",
   "metadata": {},
   "source": [
    "Now we have the most relevant parameters and how they influence the outcome of the variable Y.  \n",
    "Now we must examine of there's any correlation between the parameters themselves."
   ]
  },
  {
   "cell_type": "code",
   "execution_count": 10,
   "metadata": {},
   "outputs": [
    {
     "data": {
      "text/plain": [
       "Text(0.5, 1.0, 'Correlation matrix between parameters')"
      ]
     },
     "execution_count": 10,
     "metadata": {},
     "output_type": "execute_result"
    },
    {
     "data": {
      "image/png": "[encoded data removed]",
      "text/plain": [
       "<Figure size 432x288 with 2 Axes>"
      ]
     },
     "metadata": {
      "needs_background": "light"
     },
     "output_type": "display_data"
    }
   ],
   "source": [
    "data_4_corr=data_4[['P3','P5','P11','P12','P13','P14']]\n",
    "correlation_matrix = data_4_corr.corr().abs()\n",
    "sns.heatmap(correlation_matrix,cmap='Blues')\n",
    "plt.title('Correlation matrix between parameters',fontsize=15)"
   ]
  },
  {
   "cell_type": "markdown",
   "metadata": {},
   "source": [
    "From the analysis of the correlation matrix we can drop the following parameters due to the fact that they don't bring in any new information:  \n",
    " - P3, P12."
   ]
  },
  {
   "cell_type": "code",
   "execution_count": 11,
   "metadata": {},
   "outputs": [
    {
     "data": {
      "text/plain": [
       "Text(0.5, 1.0, 'Correlation between parameters and Y')"
      ]
     },
     "execution_count": 11,
     "metadata": {},
     "output_type": "execute_result"
    },
    {
     "data": {
      "image/png": "[encoded data removed]",
      "text/plain": [
       "<Figure size 432x288 with 1 Axes>"
      ]
     },
     "metadata": {
      "needs_background": "light"
     },
     "output_type": "display_data"
    }
   ],
   "source": [
    "data_5=data_4[['P5','P11','P13','P14']]\n",
    "\n",
    "abscorwithdep=[]\n",
    "for var in data_5.columns:\n",
    "    abscorwithdep.append((data['Y'].corr(data_5[str(var)])))\n",
    "    \n",
    "parameters=data_5.columns.to_list()\n",
    "corr_table={'parameters':parameters,\n",
    "           'corr':abscorwithdep}\n",
    "\n",
    "corr_table_df=pd.DataFrame.from_dict(corr_table)\n",
    "corr_table_df.dropna(inplace=True)\n",
    "corr_table_df.sort_values('corr', ascending=False,inplace=True)\n",
    "#corr_table_df.head()\n",
    "\n",
    "sns.barplot(x='corr',y='parameters',data=corr_table_df)\n",
    "plt.title('Correlation between parameters and Y')"
   ]
  },
  {
   "cell_type": "markdown",
   "metadata": {},
   "source": [
    "Now we have the true most relevant parameters and can formulate a strategy of action to retain personell with this information."
   ]
  },
  {
   "cell_type": "markdown",
   "metadata": {},
   "source": [
    "#### 2.3.4. Implementation of Logistic Regression  \n",
    "Due to the requirements of the project was to present the probability of an individual leaving the organization. To achieve this I devided to implement the Logistic Regression Classification Method.  \n",
    "This implementation consisted of the following steps:  \n",
    " - Creation of dummy variables,  \n",
    " - Implementation of SMOTE (Synthetic Minoryti Oversampling Technique),  \n",
    " - Implementation of Logistic Regression,  \n",
    " - Evaluation of the results."
   ]
  },
  {
   "cell_type": "code",
   "execution_count": 14,
   "metadata": {},
   "outputs": [],
   "source": [
    "# creation of dummy variables\n",
    "data_5=pd.get_dummies(data_2, prefix=['P2', 'P3', 'P5', 'P8', 'P11', 'P12', 'P13', 'P14'], columns=['P2', 'P3', 'P5', 'P8', 'P11', 'P12', 'P13', 'P14'])"
   ]
  },
  {
   "cell_type": "markdown",
   "metadata": {},
   "source": [
    "Implementation of SMOTE"
   ]
  },
  {
   "cell_type": "code",
   "execution_count": 35,
   "metadata": {},
   "outputs": [
    {
     "name": "stdout",
     "output_type": "stream",
     "text": [
      "lenght of oversampled data is 78\n",
      "lenght of não rescisao in oversampled data 39\n",
      "proportion of nao rescisao data in oversampled data is  0.5\n",
      "proportion of nao rescisao data in oversampled data is  0.5\n"
     ]
    }
   ],
   "source": [
    "X=data_5\n",
    "Y=data['Y']\n",
    "\n",
    "os=SMOTE(random_state=0)\n",
    "X_train,X_test,Y_train,Y_test=train_test_split(X,Y,test_size=0.25,random_state=0)\n",
    "columns=X_train.columns\n",
    "\n",
    "os_data_X,os_data_Y=os.fit_sample(X_train,Y_train)\n",
    "os_data_X=pd.DataFrame(data=os_data_X,columns=columns)\n",
    "os_data_Y=pd.DataFrame(data=os_data_Y,columns=['Y'])\n",
    "\n",
    "print('lenght of oversampled data is',len(os_data_X))\n",
    "print('lenght of não rescisao in oversampled data',len(os_data_Y[os_data_Y['Y']==0]))\n",
    "print('proportion of nao rescisao data in oversampled data is ',len(os_data_Y[os_data_Y['Y']==0])/len(os_data_X))\n",
    "print('proportion of nao rescisao data in oversampled data is ',len(os_data_Y[os_data_Y['Y']==1])/len(os_data_X))"
   ]
  },
  {
   "cell_type": "code",
   "execution_count": 36,
   "metadata": {},
   "outputs": [
    {
     "data": {
      "text/plain": [
       "array([[<AxesSubplot:title={'center':'Y'}>]], dtype=object)"
      ]
     },
     "execution_count": 36,
     "metadata": {},
     "output_type": "execute_result"
    },
    {
     "data": {
      "image/png": "[encoded data removed]",
      "text/plain": [
       "<Figure size 432x288 with 1 Axes>"
      ]
     },
     "metadata": {
      "needs_background": "light"
     },
     "output_type": "display_data"
    }
   ],
   "source": [
    "os_data_Y.hist()"
   ]
  },
  {
   "cell_type": "markdown",
   "metadata": {},
   "source": [
    "As we can see, the data is now balanced.  \n",
    "Now we implement the Logistic Regression."
   ]
  },
  {
   "cell_type": "code",
   "execution_count": 37,
   "metadata": {},
   "outputs": [
    {
     "name": "stderr",
     "output_type": "stream",
     "text": [
      "C:\\Users\\Pc\\anaconda3\\lib\\site-packages\\sklearn\\utils\\validation.py:72: DataConversionWarning: A column-vector y was passed when a 1d array was expected. Please change the shape of y to (n_samples, ), for example using ravel().\n",
      "  return f(**kwargs)\n"
     ]
    },
    {
     "data": {
      "text/plain": [
       "LogisticRegression()"
      ]
     },
     "execution_count": 37,
     "metadata": {},
     "output_type": "execute_result"
    }
   ],
   "source": [
    "logreg=LogisticRegression()\n",
    "logreg.fit(os_data_X,os_data_Y)"
   ]
  },
  {
   "cell_type": "code",
   "execution_count": 38,
   "metadata": {},
   "outputs": [],
   "source": [
    "# Train the model\n",
    "y_pred=logreg.predict(X_test)"
   ]
  },
  {
   "cell_type": "code",
   "execution_count": 39,
   "metadata": {},
   "outputs": [
    {
     "name": "stdout",
     "output_type": "stream",
     "text": [
      "[[15  0]\n",
      " [ 2  4]]\n"
     ]
    }
   ],
   "source": [
    "from sklearn.metrics import confusion_matrix\n",
    "confusion_matrix=confusion_matrix(Y_test,y_pred)\n",
    "print(confusion_matrix)"
   ]
  },
  {
   "cell_type": "code",
   "execution_count": 40,
   "metadata": {},
   "outputs": [
    {
     "name": "stdout",
     "output_type": "stream",
     "text": [
      "              precision    recall  f1-score   support\n",
      "\n",
      "           0       0.88      1.00      0.94        15\n",
      "           1       1.00      0.67      0.80         6\n",
      "\n",
      "    accuracy                           0.90        21\n",
      "   macro avg       0.94      0.83      0.87        21\n",
      "weighted avg       0.92      0.90      0.90        21\n",
      "\n"
     ]
    }
   ],
   "source": [
    "from sklearn.metrics import classification_report\n",
    "print(classification_report(Y_test,y_pred))"
   ]
  },
  {
   "cell_type": "code",
   "execution_count": 41,
   "metadata": {},
   "outputs": [
    {
     "data": {
      "image/png": "[encoded data removed]",
      "text/plain": [
       "<Figure size 432x288 with 1 Axes>"
      ]
     },
     "metadata": {
      "needs_background": "light"
     },
     "output_type": "display_data"
    }
   ],
   "source": [
    "from sklearn.metrics import roc_auc_score\n",
    "from sklearn.metrics import roc_curve\n",
    "logit_roc_auc=roc_auc_score(Y_test,logreg.predict(X_test))\n",
    "fpr,tpr,thresholds=roc_curve(Y_test,logreg.predict_proba(X_test)[:,1])\n",
    "plt.figure()\n",
    "plt.plot(fpr,tpr,label='Logistic Regression (area=%0.2f)' % logit_roc_auc)\n",
    "plt.plot([0,1],[0,1],'r--')\n",
    "plt.xlim([0.0,1.0])\n",
    "plt.ylim([0.0,1.05])\n",
    "plt.xlabel('False Positive Rate')\n",
    "plt.ylabel('True Positive Rate')\n",
    "plt.title('Reciever Operating Characteristic')\n",
    "plt.legend(loc='lower right')\n",
    "plt.show()"
   ]
  },
  {
   "cell_type": "markdown",
   "metadata": {},
   "source": [
    "## 3. Results  "
   ]
  },
  {
   "cell_type": "markdown",
   "metadata": {},
   "source": [
    "### 3.1. Determination of the most relevant parameters in personnel retention  \n",
    "From Exploratory Data Analysis we have obtained the most relevant parameters in personnel retention."
   ]
  },
  {
   "cell_type": "code",
   "execution_count": 42,
   "metadata": {},
   "outputs": [
    {
     "data": {
      "text/plain": [
       "Text(0.5, 1.0, 'Correlation between parameters and Y')"
      ]
     },
     "execution_count": 42,
     "metadata": {},
     "output_type": "execute_result"
    },
    {
     "data": {
      "image/png": "[encoded data removed]",
      "text/plain": [
       "<Figure size 432x288 with 1 Axes>"
      ]
     },
     "metadata": {
      "needs_background": "light"
     },
     "output_type": "display_data"
    }
   ],
   "source": [
    "sns.barplot(x='corr',y='parameters',data=corr_table_df)\n",
    "plt.title('Correlation between parameters and Y')"
   ]
  },
  {
   "cell_type": "markdown",
   "metadata": {},
   "source": [
    "### 3.2. Classification Algorithm  \n",
    "The classification algorithm through Logistic Regression that was developed yielded the following results"
   ]
  },
  {
   "cell_type": "code",
   "execution_count": 44,
   "metadata": {},
   "outputs": [
    {
     "name": "stdout",
     "output_type": "stream",
     "text": [
      "              precision    recall  f1-score   support\n",
      "\n",
      "           0       0.88      1.00      0.94        15\n",
      "           1       1.00      0.67      0.80         6\n",
      "\n",
      "    accuracy                           0.90        21\n",
      "   macro avg       0.94      0.83      0.87        21\n",
      "weighted avg       0.92      0.90      0.90        21\n",
      "\n"
     ]
    }
   ],
   "source": [
    "print(classification_report(Y_test,y_pred))"
   ]
  },
  {
   "cell_type": "code",
   "execution_count": 45,
   "metadata": {},
   "outputs": [
    {
     "data": {
      "image/png": "[encoded data removed]",
      "text/plain": [
       "<Figure size 432x288 with 1 Axes>"
      ]
     },
     "metadata": {
      "needs_background": "light"
     },
     "output_type": "display_data"
    }
   ],
   "source": [
    "plt.figure()\n",
    "plt.plot(fpr,tpr,label='Logistic Regression (area=%0.2f)' % logit_roc_auc)\n",
    "plt.plot([0,1],[0,1],'r--')\n",
    "plt.xlim([0.0,1.0])\n",
    "plt.ylim([0.0,1.05])\n",
    "plt.xlabel('False Positive Rate')\n",
    "plt.ylabel('True Positive Rate')\n",
    "plt.title('Reciever Operating Characteristic')\n",
    "plt.legend(loc='lower right')\n",
    "plt.show()"
   ]
  },
  {
   "cell_type": "markdown",
   "metadata": {},
   "source": [
    "## 4. Conclusion  \n",
    "With this project we have now the following:  \n",
    " - Information on the most relevant parameters in personnel retention which can be used to formulate a plan of action to increase retention power,  \n",
    " - Classification algorithm that can return the probability of an individual leaving the organization.  \n",
    "\n",
    "The organization for which this project was developed gained the information to allow them to increase their retention power and an algorithm to allow for prediction. With this information and tool, a strategy can be developed and implemented to improve the effectiveness of the organization."
   ]
  },
  {
   "cell_type": "markdown",
   "metadata": {},
   "source": [
    "## 5. Final Thoughts  \n",
    "This approach has great value in improving personnel retention not only in the organization for which it was developed, but also for any organization. When we speak of personnel retention, we also speak to client retention which has great application in many industries."
   ]
  },
  {
   "cell_type": "code",
   "execution_count": null,
   "metadata": {},
   "outputs": [],
   "source": []
  }
 ],
 "metadata": {
  "kernelspec": {
   "display_name": "Python 3",
   "language": "python",
   "name": "python3"
  },
  "language_info": {
   "codemirror_mode": {
    "name": "ipython",
    "version": 3
   },
   "file_extension": ".py",
   "mimetype": "text/x-python",
   "name": "python",
   "nbconvert_exporter": "python",
   "pygments_lexer": "ipython3",
   "version": "3.7.9"
  }
 },
 "nbformat": 4,
 "nbformat_minor": 4
}
